{
  "nbformat": 4,
  "nbformat_minor": 0,
  "metadata": {
    "colab": {
      "provenance": [],
      "include_colab_link": true
    },
    "kernelspec": {
      "name": "python3",
      "display_name": "Python 3"
    },
    "language_info": {
      "name": "python"
    }
  },
  "cells": [
    {
      "cell_type": "markdown",
      "metadata": {
        "id": "view-in-github",
        "colab_type": "text"
      },
      "source": [
        "<a href=\"https://colab.research.google.com/github/Davtek11/.github/blob/main/arn_lab1.ipynb\" target=\"_parent\"><img src=\"https://colab.research.google.com/assets/colab-badge.svg\" alt=\"Open In Colab\"/></a>"
      ]
    },
    {
      "cell_type": "code",
      "execution_count": 19,
      "metadata": {
        "colab": {
          "base_uri": "https://localhost:8080/",
          "height": 1000
        },
        "id": "P2-fDOBdhR0M",
        "outputId": "aa5b8368-8efd-445f-8e5a-c012940b8b20"
      },
      "outputs": [
        {
          "output_type": "stream",
          "name": "stdout",
          "text": [
            "New Fold : \n",
            "train: [[-0.08183552 -0.01929315 -0.02454073 ...  0.24759866  0.5640954\n",
            "  -0.17045577]\n",
            " [-0.09709787 -0.10132001 -0.07025548 ...  0.07370162 -0.26513213\n",
            "   0.10083295]\n",
            " [-0.14005321  0.2656849   0.57490295 ... -0.24215867  0.1079895\n",
            "  -0.07064412]\n",
            " ...\n",
            " [-0.09190603 -0.10557748 -0.13869552 ...  0.04145679  0.09839085\n",
            "  -0.26081806]\n",
            " [ 0.00390103  0.355853    0.45550996 ...  0.22542526 -0.19725971\n",
            "   0.02358775]\n",
            " [ 0.00079011  0.04359882  0.11099189 ... -0.08470092  0.5280494\n",
            "  -0.12865232]]\n",
            "test : [[-5.79307005e-02  7.69462705e-01  2.88942546e-01 ... -1.68763965e-01\n",
            "  -1.36033520e-01 -1.90423965e-01]\n",
            " [ 2.31879803e-05  7.19494224e-02 -1.29449725e-01 ... -2.60867793e-02\n",
            "  -1.36634186e-01  3.52838457e-01]\n",
            " [-2.55692657e-02  9.93788391e-02  6.72207773e-02 ...  2.70397943e-02\n",
            "  -5.92029318e-02 -9.19763092e-03]\n",
            " ...\n",
            " [ 1.85331523e-01 -1.19361155e-01  1.80416927e-01 ...  4.29756671e-01\n",
            "   3.18335384e-01  2.44652852e-01]\n",
            " [-6.59832358e-03  1.25867128e-02  2.18738109e-01 ...  4.22459953e-02\n",
            "   6.88114911e-02  4.96084131e-02]\n",
            " [-1.30120397e-01 -5.74877448e-02 -3.13596576e-02 ...  9.68438387e-02\n",
            "   7.60385096e-02  2.50704855e-01]]\n",
            "New Fold : \n",
            "train: [[-0.09709787 -0.10132001 -0.07025548 ...  0.07370162 -0.26513213\n",
            "   0.10083295]\n",
            " [-0.0579307   0.7694627   0.28894255 ... -0.16876397 -0.13603352\n",
            "  -0.19042397]\n",
            " [-0.02920498 -0.02858821 -0.01925491 ...  0.16115297 -0.05452492\n",
            "  -0.09129626]\n",
            " ...\n",
            " [-0.09190603 -0.10557748 -0.13869552 ...  0.04145679  0.09839085\n",
            "  -0.26081806]\n",
            " [ 0.00390103  0.355853    0.45550996 ...  0.22542526 -0.19725971\n",
            "   0.02358775]\n",
            " [ 0.00079011  0.04359882  0.11099189 ... -0.08470092  0.5280494\n",
            "  -0.12865232]]\n",
            "test : [[-0.08183552 -0.01929315 -0.02454073 ...  0.24759866  0.5640954\n",
            "  -0.17045577]\n",
            " [-0.14005321  0.2656849   0.57490295 ... -0.24215867  0.1079895\n",
            "  -0.07064412]\n",
            " [-0.06486992 -0.04878101 -0.03550443 ...  0.07586408 -0.03320995\n",
            "   0.08271285]\n",
            " ...\n",
            " [ 0.34634158 -0.13448611 -0.08297859 ... -0.34955147 -0.35188124\n",
            "   0.114901  ]\n",
            " [-0.04232232 -0.01995225  0.45678288 ... -0.291919   -0.16634442\n",
            "   0.13478036]\n",
            " [-0.06730253  0.1307128  -0.04515488 ...  0.12450752  0.04680547\n",
            "   0.04848096]]\n",
            "New Fold : \n",
            "train: [[-0.08183552 -0.01929315 -0.02454073 ...  0.24759866  0.5640954\n",
            "  -0.17045577]\n",
            " [-0.0579307   0.7694627   0.28894255 ... -0.16876397 -0.13603352\n",
            "  -0.19042397]\n",
            " [-0.14005321  0.2656849   0.57490295 ... -0.24215867  0.1079895\n",
            "  -0.07064412]\n",
            " ...\n",
            " [ 0.34634158 -0.13448611 -0.08297859 ... -0.34955147 -0.35188124\n",
            "   0.114901  ]\n",
            " [-0.04232232 -0.01995225  0.45678288 ... -0.291919   -0.16634442\n",
            "   0.13478036]\n",
            " [-0.06730253  0.1307128  -0.04515488 ...  0.12450752  0.04680547\n",
            "   0.04848096]]\n",
            "test : [[-0.09709787 -0.10132001 -0.07025548 ...  0.07370162 -0.26513213\n",
            "   0.10083295]\n",
            " [-0.02920498 -0.02858821 -0.01925491 ...  0.16115297 -0.05452492\n",
            "  -0.09129626]\n",
            " [ 0.11418553 -0.03422337 -0.08389358 ...  0.18376026 -0.14756882\n",
            "   0.13511933]\n",
            " ...\n",
            " [-0.09190603 -0.10557748 -0.13869552 ...  0.04145679  0.09839085\n",
            "  -0.26081806]\n",
            " [ 0.00390103  0.355853    0.45550996 ...  0.22542526 -0.19725971\n",
            "   0.02358775]\n",
            " [ 0.00079011  0.04359882  0.11099189 ... -0.08470092  0.5280494\n",
            "  -0.12865232]]\n"
          ]
        },
        {
          "output_type": "display_data",
          "data": {
            "text/plain": [
              "\u001b[1mModel: \"sequential_2\"\u001b[0m\n"
            ],
            "text/html": [
              "<pre style=\"white-space:pre;overflow-x:auto;line-height:normal;font-family:Menlo,'DejaVu Sans Mono',consolas,'Courier New',monospace\"><span style=\"font-weight: bold\">Model: \"sequential_2\"</span>\n",
              "</pre>\n"
            ]
          },
          "metadata": {}
        },
        {
          "output_type": "display_data",
          "data": {
            "text/plain": [
              "┏━━━━━━━━━━━━━━━━━━━━━━━━━━━━━━━━━━━━━━┳━━━━━━━━━━━━━━━━━━━━━━━━━━━━━┳━━━━━━━━━━━━━━━━━┓\n",
              "┃\u001b[1m \u001b[0m\u001b[1mLayer (type)                        \u001b[0m\u001b[1m \u001b[0m┃\u001b[1m \u001b[0m\u001b[1mOutput Shape               \u001b[0m\u001b[1m \u001b[0m┃\u001b[1m \u001b[0m\u001b[1m        Param #\u001b[0m\u001b[1m \u001b[0m┃\n",
              "┡━━━━━━━━━━━━━━━━━━━━━━━━━━━━━━━━━━━━━━╇━━━━━━━━━━━━━━━━━━━━━━━━━━━━━╇━━━━━━━━━━━━━━━━━┩\n",
              "│ dense_4 (\u001b[38;5;33mDense\u001b[0m)                      │ (\u001b[38;5;45mNone\u001b[0m, \u001b[38;5;34m32\u001b[0m)                  │              \u001b[38;5;34m96\u001b[0m │\n",
              "├──────────────────────────────────────┼─────────────────────────────┼─────────────────┤\n",
              "│ dense_5 (\u001b[38;5;33mDense\u001b[0m)                      │ (\u001b[38;5;45mNone\u001b[0m, \u001b[38;5;34m4\u001b[0m)                   │             \u001b[38;5;34m132\u001b[0m │\n",
              "└──────────────────────────────────────┴─────────────────────────────┴─────────────────┘\n"
            ],
            "text/html": [
              "<pre style=\"white-space:pre;overflow-x:auto;line-height:normal;font-family:Menlo,'DejaVu Sans Mono',consolas,'Courier New',monospace\">┏━━━━━━━━━━━━━━━━━━━━━━━━━━━━━━━━━━━━━━┳━━━━━━━━━━━━━━━━━━━━━━━━━━━━━┳━━━━━━━━━━━━━━━━━┓\n",
              "┃<span style=\"font-weight: bold\"> Layer (type)                         </span>┃<span style=\"font-weight: bold\"> Output Shape                </span>┃<span style=\"font-weight: bold\">         Param # </span>┃\n",
              "┡━━━━━━━━━━━━━━━━━━━━━━━━━━━━━━━━━━━━━━╇━━━━━━━━━━━━━━━━━━━━━━━━━━━━━╇━━━━━━━━━━━━━━━━━┩\n",
              "│ dense_4 (<span style=\"color: #0087ff; text-decoration-color: #0087ff\">Dense</span>)                      │ (<span style=\"color: #00d7ff; text-decoration-color: #00d7ff\">None</span>, <span style=\"color: #00af00; text-decoration-color: #00af00\">32</span>)                  │              <span style=\"color: #00af00; text-decoration-color: #00af00\">96</span> │\n",
              "├──────────────────────────────────────┼─────────────────────────────┼─────────────────┤\n",
              "│ dense_5 (<span style=\"color: #0087ff; text-decoration-color: #0087ff\">Dense</span>)                      │ (<span style=\"color: #00d7ff; text-decoration-color: #00d7ff\">None</span>, <span style=\"color: #00af00; text-decoration-color: #00af00\">4</span>)                   │             <span style=\"color: #00af00; text-decoration-color: #00af00\">132</span> │\n",
              "└──────────────────────────────────────┴─────────────────────────────┴─────────────────┘\n",
              "</pre>\n"
            ]
          },
          "metadata": {}
        },
        {
          "output_type": "display_data",
          "data": {
            "text/plain": [
              "\u001b[1m Total params: \u001b[0m\u001b[38;5;34m228\u001b[0m (912.00 B)\n"
            ],
            "text/html": [
              "<pre style=\"white-space:pre;overflow-x:auto;line-height:normal;font-family:Menlo,'DejaVu Sans Mono',consolas,'Courier New',monospace\"><span style=\"font-weight: bold\"> Total params: </span><span style=\"color: #00af00; text-decoration-color: #00af00\">228</span> (912.00 B)\n",
              "</pre>\n"
            ]
          },
          "metadata": {}
        },
        {
          "output_type": "display_data",
          "data": {
            "text/plain": [
              "\u001b[1m Trainable params: \u001b[0m\u001b[38;5;34m228\u001b[0m (912.00 B)\n"
            ],
            "text/html": [
              "<pre style=\"white-space:pre;overflow-x:auto;line-height:normal;font-family:Menlo,'DejaVu Sans Mono',consolas,'Courier New',monospace\"><span style=\"font-weight: bold\"> Trainable params: </span><span style=\"color: #00af00; text-decoration-color: #00af00\">228</span> (912.00 B)\n",
              "</pre>\n"
            ]
          },
          "metadata": {}
        },
        {
          "output_type": "display_data",
          "data": {
            "text/plain": [
              "\u001b[1m Non-trainable params: \u001b[0m\u001b[38;5;34m0\u001b[0m (0.00 B)\n"
            ],
            "text/html": [
              "<pre style=\"white-space:pre;overflow-x:auto;line-height:normal;font-family:Menlo,'DejaVu Sans Mono',consolas,'Courier New',monospace\"><span style=\"font-weight: bold\"> Non-trainable params: </span><span style=\"color: #00af00; text-decoration-color: #00af00\">0</span> (0.00 B)\n",
              "</pre>\n"
            ]
          },
          "metadata": {}
        },
        {
          "output_type": "error",
          "ename": "KeyError",
          "evalue": "\"None of [Index([    2,     3,     7,     8,     9,    10,    11,    12,    14,    15,\\n       ...\\n       20241, 20243, 20244, 20246, 20248, 20249, 20252, 20253, 20254, 20257],\\n      dtype='int64', length=13505)] are in the [columns]\"",
          "traceback": [
            "\u001b[0;31m---------------------------------------------------------------------------\u001b[0m",
            "\u001b[0;31mKeyError\u001b[0m                                  Traceback (most recent call last)",
            "\u001b[0;32m<ipython-input-19-68d561eebccb>\u001b[0m in \u001b[0;36m<cell line: 0>\u001b[0;34m()\u001b[0m\n\u001b[1;32m     64\u001b[0m \u001b[0;34m\u001b[0m\u001b[0m\n\u001b[1;32m     65\u001b[0m   history = mlp.fit(\n\u001b[0;32m---> 66\u001b[0;31m       \u001b[0mx\u001b[0m\u001b[0;34m=\u001b[0m\u001b[0mmice_eeg_normalize\u001b[0m\u001b[0;34m[\u001b[0m\u001b[0mtrain_index\u001b[0m\u001b[0;34m]\u001b[0m\u001b[0;34m,\u001b[0m \u001b[0my\u001b[0m\u001b[0;34m=\u001b[0m\u001b[0mmice_eeg_output\u001b[0m\u001b[0;34m[\u001b[0m\u001b[0mtrain_index\u001b[0m\u001b[0;34m]\u001b[0m\u001b[0;34m,\u001b[0m\u001b[0;34m\u001b[0m\u001b[0;34m\u001b[0m\u001b[0m\n\u001b[0m\u001b[1;32m     67\u001b[0m       \u001b[0mvalidation_data\u001b[0m\u001b[0;34m=\u001b[0m\u001b[0;34m(\u001b[0m\u001b[0mmice_eeg_normalize\u001b[0m\u001b[0;34m[\u001b[0m\u001b[0mtest_index\u001b[0m\u001b[0;34m]\u001b[0m\u001b[0;34m,\u001b[0m \u001b[0mmice_eeg_output\u001b[0m\u001b[0;34m[\u001b[0m\u001b[0mtest_index\u001b[0m\u001b[0;34m]\u001b[0m\u001b[0;34m)\u001b[0m\u001b[0;34m,\u001b[0m\u001b[0;34m\u001b[0m\u001b[0;34m\u001b[0m\u001b[0m\n\u001b[1;32m     68\u001b[0m       \u001b[0mepochs\u001b[0m\u001b[0;34m=\u001b[0m\u001b[0;36m50\u001b[0m\u001b[0;34m\u001b[0m\u001b[0;34m\u001b[0m\u001b[0m\n",
            "\u001b[0;32m/usr/local/lib/python3.11/dist-packages/pandas/core/frame.py\u001b[0m in \u001b[0;36m__getitem__\u001b[0;34m(self, key)\u001b[0m\n\u001b[1;32m   4106\u001b[0m             \u001b[0;32mif\u001b[0m \u001b[0mis_iterator\u001b[0m\u001b[0;34m(\u001b[0m\u001b[0mkey\u001b[0m\u001b[0;34m)\u001b[0m\u001b[0;34m:\u001b[0m\u001b[0;34m\u001b[0m\u001b[0;34m\u001b[0m\u001b[0m\n\u001b[1;32m   4107\u001b[0m                 \u001b[0mkey\u001b[0m \u001b[0;34m=\u001b[0m \u001b[0mlist\u001b[0m\u001b[0;34m(\u001b[0m\u001b[0mkey\u001b[0m\u001b[0;34m)\u001b[0m\u001b[0;34m\u001b[0m\u001b[0;34m\u001b[0m\u001b[0m\n\u001b[0;32m-> 4108\u001b[0;31m             \u001b[0mindexer\u001b[0m \u001b[0;34m=\u001b[0m \u001b[0mself\u001b[0m\u001b[0;34m.\u001b[0m\u001b[0mcolumns\u001b[0m\u001b[0;34m.\u001b[0m\u001b[0m_get_indexer_strict\u001b[0m\u001b[0;34m(\u001b[0m\u001b[0mkey\u001b[0m\u001b[0;34m,\u001b[0m \u001b[0;34m\"columns\"\u001b[0m\u001b[0;34m)\u001b[0m\u001b[0;34m[\u001b[0m\u001b[0;36m1\u001b[0m\u001b[0;34m]\u001b[0m\u001b[0;34m\u001b[0m\u001b[0;34m\u001b[0m\u001b[0m\n\u001b[0m\u001b[1;32m   4109\u001b[0m \u001b[0;34m\u001b[0m\u001b[0m\n\u001b[1;32m   4110\u001b[0m         \u001b[0;31m# take() does not accept boolean indexers\u001b[0m\u001b[0;34m\u001b[0m\u001b[0;34m\u001b[0m\u001b[0m\n",
            "\u001b[0;32m/usr/local/lib/python3.11/dist-packages/pandas/core/indexes/base.py\u001b[0m in \u001b[0;36m_get_indexer_strict\u001b[0;34m(self, key, axis_name)\u001b[0m\n\u001b[1;32m   6198\u001b[0m             \u001b[0mkeyarr\u001b[0m\u001b[0;34m,\u001b[0m \u001b[0mindexer\u001b[0m\u001b[0;34m,\u001b[0m \u001b[0mnew_indexer\u001b[0m \u001b[0;34m=\u001b[0m \u001b[0mself\u001b[0m\u001b[0;34m.\u001b[0m\u001b[0m_reindex_non_unique\u001b[0m\u001b[0;34m(\u001b[0m\u001b[0mkeyarr\u001b[0m\u001b[0;34m)\u001b[0m\u001b[0;34m\u001b[0m\u001b[0;34m\u001b[0m\u001b[0m\n\u001b[1;32m   6199\u001b[0m \u001b[0;34m\u001b[0m\u001b[0m\n\u001b[0;32m-> 6200\u001b[0;31m         \u001b[0mself\u001b[0m\u001b[0;34m.\u001b[0m\u001b[0m_raise_if_missing\u001b[0m\u001b[0;34m(\u001b[0m\u001b[0mkeyarr\u001b[0m\u001b[0;34m,\u001b[0m \u001b[0mindexer\u001b[0m\u001b[0;34m,\u001b[0m \u001b[0maxis_name\u001b[0m\u001b[0;34m)\u001b[0m\u001b[0;34m\u001b[0m\u001b[0;34m\u001b[0m\u001b[0m\n\u001b[0m\u001b[1;32m   6201\u001b[0m \u001b[0;34m\u001b[0m\u001b[0m\n\u001b[1;32m   6202\u001b[0m         \u001b[0mkeyarr\u001b[0m \u001b[0;34m=\u001b[0m \u001b[0mself\u001b[0m\u001b[0;34m.\u001b[0m\u001b[0mtake\u001b[0m\u001b[0;34m(\u001b[0m\u001b[0mindexer\u001b[0m\u001b[0;34m)\u001b[0m\u001b[0;34m\u001b[0m\u001b[0;34m\u001b[0m\u001b[0m\n",
            "\u001b[0;32m/usr/local/lib/python3.11/dist-packages/pandas/core/indexes/base.py\u001b[0m in \u001b[0;36m_raise_if_missing\u001b[0;34m(self, key, indexer, axis_name)\u001b[0m\n\u001b[1;32m   6247\u001b[0m         \u001b[0;32mif\u001b[0m \u001b[0mnmissing\u001b[0m\u001b[0;34m:\u001b[0m\u001b[0;34m\u001b[0m\u001b[0;34m\u001b[0m\u001b[0m\n\u001b[1;32m   6248\u001b[0m             \u001b[0;32mif\u001b[0m \u001b[0mnmissing\u001b[0m \u001b[0;34m==\u001b[0m \u001b[0mlen\u001b[0m\u001b[0;34m(\u001b[0m\u001b[0mindexer\u001b[0m\u001b[0;34m)\u001b[0m\u001b[0;34m:\u001b[0m\u001b[0;34m\u001b[0m\u001b[0;34m\u001b[0m\u001b[0m\n\u001b[0;32m-> 6249\u001b[0;31m                 \u001b[0;32mraise\u001b[0m \u001b[0mKeyError\u001b[0m\u001b[0;34m(\u001b[0m\u001b[0;34mf\"None of [{key}] are in the [{axis_name}]\"\u001b[0m\u001b[0;34m)\u001b[0m\u001b[0;34m\u001b[0m\u001b[0;34m\u001b[0m\u001b[0m\n\u001b[0m\u001b[1;32m   6250\u001b[0m \u001b[0;34m\u001b[0m\u001b[0m\n\u001b[1;32m   6251\u001b[0m             \u001b[0mnot_found\u001b[0m \u001b[0;34m=\u001b[0m \u001b[0mlist\u001b[0m\u001b[0;34m(\u001b[0m\u001b[0mensure_index\u001b[0m\u001b[0;34m(\u001b[0m\u001b[0mkey\u001b[0m\u001b[0;34m)\u001b[0m\u001b[0;34m[\u001b[0m\u001b[0mmissing_mask\u001b[0m\u001b[0;34m.\u001b[0m\u001b[0mnonzero\u001b[0m\u001b[0;34m(\u001b[0m\u001b[0;34m)\u001b[0m\u001b[0;34m[\u001b[0m\u001b[0;36m0\u001b[0m\u001b[0;34m]\u001b[0m\u001b[0;34m]\u001b[0m\u001b[0;34m.\u001b[0m\u001b[0munique\u001b[0m\u001b[0;34m(\u001b[0m\u001b[0;34m)\u001b[0m\u001b[0;34m)\u001b[0m\u001b[0;34m\u001b[0m\u001b[0;34m\u001b[0m\u001b[0m\n",
            "\u001b[0;31mKeyError\u001b[0m: \"None of [Index([    2,     3,     7,     8,     9,    10,    11,    12,    14,    15,\\n       ...\\n       20241, 20243, 20244, 20246, 20248, 20249, 20252, 20253, 20254, 20257],\\n      dtype='int64', length=13505)] are in the [columns]\""
          ]
        },
        {
          "output_type": "display_data",
          "data": {
            "text/plain": [
              "<Figure size 640x480 with 0 Axes>"
            ]
          },
          "metadata": {}
        }
      ],
      "source": [
        "import pandas as pd\n",
        "import sklearn as sk\n",
        "import matplotlib.pyplot as pl\n",
        "\n",
        "from sklearn.model_selection import KFold\n",
        "from tensorflow import keras\n",
        "from keras import layers\n",
        "\n",
        "mice_eeg = pd.read_csv('EEG_mouse_data_1.csv')\n",
        "mice_eeg = mice_eeg.iloc[:, 1:26:]\n",
        "mice_eeg = mice_eeg.astype('float32')\n",
        "\n",
        "mice_eeg_output = mice_eeg.iloc[:, 0:1:]\n",
        "\n",
        "# normalize mice_eeg\n",
        "mice_eeg = (mice_eeg - mice_eeg.mean()) / mice_eeg.std()\n",
        "# mice_eeg\n",
        "mice_eeg_normalize = sk.preprocessing.normalize(mice_eeg)\n",
        "\n",
        "\n",
        "\n",
        "#3-Fold\n",
        "pl.clf()\n",
        "keras.utils.set_random_seed(123)\n",
        "kfold = KFold(n_splits=3, shuffle=True)\n",
        "for train, test in kfold.split(mice_eeg_normalize):\n",
        "    print(f\"New Fold : \")\n",
        "    print('train: %s' % (mice_eeg_normalize[train]))\n",
        "    print('test : %s' % (mice_eeg_normalize[test]))\n",
        "\n",
        "\n",
        "#Création du modèle\n",
        "def create_model():\n",
        "  # 2 inputs\n",
        "  # 2 hidden nodes\n",
        "  # 1 output\n",
        "\n",
        "  mlp = keras.Sequential([\n",
        "      layers.Input(shape=(2,)),\n",
        "      layers.Dense(32, activation=\"tanh\"), # Try different numbers of hidden neurons here (e.g. 2, 4, 8, 32, 128)\n",
        "      layers.Dense(4, activation=\"tanh\"),\n",
        "  ])\n",
        "\n",
        "  # Experiment with hyperparameters here:\n",
        "  # momentum: [0, 0.8, 0.9, 0.99]\n",
        "  # learning_rate: [0.1, 0.01, 0.001, 0.0001]\n",
        "  mlp.compile(\n",
        "      optimizer=keras.optimizers.SGD(learning_rate=0.01, momentum=0.99),\n",
        "      loss=\"mse\",\n",
        "  )\n",
        "\n",
        "  return mlp\n",
        "\n",
        "mlp = create_model()\n",
        "mlp.summary()\n",
        "\n",
        "\n",
        "history_list = []\n",
        "trained_mlp = []\n",
        "\n",
        "for i, (train_index, test_index) in enumerate(kfold.split(mice_eeg_normalize)):\n",
        "  # We need to create a new model everytime otherwise fit will continue previous training\n",
        "  mlp = create_model()\n",
        "\n",
        "  history = mlp.fit(\n",
        "      x=mice_eeg_normalize[train_index], y=mice_eeg_output[train_index],\n",
        "      validation_data=(mice_eeg_normalize[test_index], mice_eeg_output[test_index]),\n",
        "      epochs=50\n",
        "  )\n",
        "\n",
        "  history_list.append(history)\n",
        "  trained_mlp.append(mlp)\n",
        "\n"
      ]
    }
  ]
}